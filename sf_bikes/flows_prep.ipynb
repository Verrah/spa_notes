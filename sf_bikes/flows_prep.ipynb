{
 "cells": [
  {
   "cell_type": "code",
   "execution_count": 320,
   "metadata": {
    "collapsed": true
   },
   "outputs": [],
   "source": [
    "%matplotlib inline\n",
    "\n",
    "import json\n",
    "import requests\n",
    "import pandas as pd\n",
    "import geopandas as gpd\n",
    "import polyline as pl\n",
    "import googlemaps\n",
    "from itertools import permutations, combinations\n",
    "from shapely.geometry import LineString"
   ]
  },
  {
   "cell_type": "markdown",
   "metadata": {},
   "source": [
    "# Data prep for flows tutorial\n",
    "\n",
    "This notebook compiles steps required to compile street and straight distances between all bike share stations within the city of San Francisco and obtain the number of trips that were taken over the period of September 2015 to August 2016. This relies on the following two files:\n",
    "\n",
    "1. Stations"
   ]
  },
  {
   "cell_type": "code",
   "execution_count": 321,
   "metadata": {
    "collapsed": true
   },
   "outputs": [],
   "source": [
    "url = 'http://www.bayareabikeshare.com/stations/json'"
   ]
  },
  {
   "cell_type": "markdown",
   "metadata": {},
   "source": [
    "## Distances"
   ]
  },
  {
   "cell_type": "markdown",
   "metadata": {},
   "source": [
    "* Reading the stations file. Keep only those in San Francisco:"
   ]
  },
  {
   "cell_type": "code",
   "execution_count": 330,
   "metadata": {
    "collapsed": false
   },
   "outputs": [
    {
     "data": {
      "text/html": [
       "<div>\n",
       "<table border=\"1\" class=\"dataframe\">\n",
       "  <thead>\n",
       "    <tr style=\"text-align: right;\">\n",
       "      <th></th>\n",
       "      <th>altitude</th>\n",
       "      <th>availableBikes</th>\n",
       "      <th>availableDocks</th>\n",
       "      <th>city</th>\n",
       "      <th>id</th>\n",
       "      <th>is_renting</th>\n",
       "      <th>landMark</th>\n",
       "      <th>lastCommunicationTime</th>\n",
       "      <th>latitude</th>\n",
       "      <th>location</th>\n",
       "      <th>longitude</th>\n",
       "      <th>postalCode</th>\n",
       "      <th>stAddress1</th>\n",
       "      <th>stAddress2</th>\n",
       "      <th>stationName</th>\n",
       "      <th>status</th>\n",
       "      <th>statusKey</th>\n",
       "      <th>statusValue</th>\n",
       "      <th>testStation</th>\n",
       "      <th>totalDocks</th>\n",
       "    </tr>\n",
       "  </thead>\n",
       "  <tbody>\n",
       "    <tr>\n",
       "      <th>14</th>\n",
       "      <td></td>\n",
       "      <td>5</td>\n",
       "      <td>14</td>\n",
       "      <td>San Francisco</td>\n",
       "      <td>39</td>\n",
       "      <td>True</td>\n",
       "      <td>San Francisco</td>\n",
       "      <td>2017-03-11 09:44:57</td>\n",
       "      <td>37.783871</td>\n",
       "      <td>San Francisco</td>\n",
       "      <td>-122.408433</td>\n",
       "      <td></td>\n",
       "      <td>Powell Street BART</td>\n",
       "      <td>Market</td>\n",
       "      <td>Powell Street BART</td>\n",
       "      <td>IN_SERVICE</td>\n",
       "      <td>1</td>\n",
       "      <td>In Service</td>\n",
       "      <td>False</td>\n",
       "      <td>19</td>\n",
       "    </tr>\n",
       "    <tr>\n",
       "      <th>15</th>\n",
       "      <td></td>\n",
       "      <td>5</td>\n",
       "      <td>10</td>\n",
       "      <td>San Francisco</td>\n",
       "      <td>41</td>\n",
       "      <td>True</td>\n",
       "      <td>San Francisco</td>\n",
       "      <td>2017-03-11 09:42:26</td>\n",
       "      <td>37.795001</td>\n",
       "      <td></td>\n",
       "      <td>-122.399970</td>\n",
       "      <td></td>\n",
       "      <td>Clay at Battery</td>\n",
       "      <td>Clay Street</td>\n",
       "      <td>Clay at Battery</td>\n",
       "      <td>IN_SERVICE</td>\n",
       "      <td>1</td>\n",
       "      <td>In Service</td>\n",
       "      <td>False</td>\n",
       "      <td>15</td>\n",
       "    </tr>\n",
       "    <tr>\n",
       "      <th>16</th>\n",
       "      <td></td>\n",
       "      <td>6</td>\n",
       "      <td>9</td>\n",
       "      <td>San Francisco</td>\n",
       "      <td>42</td>\n",
       "      <td>True</td>\n",
       "      <td>San Francisco</td>\n",
       "      <td>2017-03-11 09:44:36</td>\n",
       "      <td>37.797280</td>\n",
       "      <td></td>\n",
       "      <td>-122.398436</td>\n",
       "      <td></td>\n",
       "      <td>Davis at Jackson</td>\n",
       "      <td>Davis Street</td>\n",
       "      <td>Davis at Jackson</td>\n",
       "      <td>IN_SERVICE</td>\n",
       "      <td>1</td>\n",
       "      <td>In Service</td>\n",
       "      <td>False</td>\n",
       "      <td>15</td>\n",
       "    </tr>\n",
       "  </tbody>\n",
       "</table>\n",
       "</div>"
      ],
      "text/plain": [
       "   altitude  availableBikes  availableDocks           city  id is_renting  \\\n",
       "14                        5              14  San Francisco  39       True   \n",
       "15                        5              10  San Francisco  41       True   \n",
       "16                        6               9  San Francisco  42       True   \n",
       "\n",
       "         landMark lastCommunicationTime   latitude       location   longitude  \\\n",
       "14  San Francisco   2017-03-11 09:44:57  37.783871  San Francisco -122.408433   \n",
       "15  San Francisco   2017-03-11 09:42:26  37.795001                -122.399970   \n",
       "16  San Francisco   2017-03-11 09:44:36  37.797280                -122.398436   \n",
       "\n",
       "   postalCode          stAddress1    stAddress2         stationName  \\\n",
       "14             Powell Street BART        Market  Powell Street BART   \n",
       "15                Clay at Battery   Clay Street     Clay at Battery   \n",
       "16               Davis at Jackson  Davis Street    Davis at Jackson   \n",
       "\n",
       "        status  statusKey statusValue testStation  totalDocks  \n",
       "14  IN_SERVICE          1  In Service       False          19  \n",
       "15  IN_SERVICE          1  In Service       False          15  \n",
       "16  IN_SERVICE          1  In Service       False          15  "
      ]
     },
     "execution_count": 330,
     "metadata": {},
     "output_type": "execute_result"
    }
   ],
   "source": [
    "js = json.loads(requests.get(url).text)\n",
    "\n",
    "stns = pd.DataFrame(js['stationBeanList'])\n",
    "\n",
    "stns = stns.loc[stns['landMark']=='San Francisco', :]\n",
    "stns.head(3)"
   ]
  },
  {
   "cell_type": "markdown",
   "metadata": {},
   "source": [
    "* Compiling all possible destinations from station to station."
   ]
  },
  {
   "cell_type": "code",
   "execution_count": 348,
   "metadata": {
    "collapsed": false
   },
   "outputs": [],
   "source": [
    "od_ids = pd.DataFrame([(i[0], i[1], set((i[0], i[1]))) for i in\n",
    "             permutations(stns['id'], 2)],\n",
    "                      columns=['orig', 'dest', 'set'])"
   ]
  },
  {
   "cell_type": "code",
   "execution_count": 349,
   "metadata": {
    "collapsed": false
   },
   "outputs": [
    {
     "data": {
      "text/html": [
       "<div>\n",
       "<table border=\"1\" class=\"dataframe\">\n",
       "  <thead>\n",
       "    <tr style=\"text-align: right;\">\n",
       "      <th></th>\n",
       "      <th>orig</th>\n",
       "      <th>dest</th>\n",
       "      <th>set</th>\n",
       "    </tr>\n",
       "  </thead>\n",
       "  <tbody>\n",
       "    <tr>\n",
       "      <th>42</th>\n",
       "      <td>41</td>\n",
       "      <td>42</td>\n",
       "      <td>{41, 42}</td>\n",
       "    </tr>\n",
       "    <tr>\n",
       "      <th>83</th>\n",
       "      <td>42</td>\n",
       "      <td>41</td>\n",
       "      <td>{41, 42}</td>\n",
       "    </tr>\n",
       "  </tbody>\n",
       "</table>\n",
       "</div>"
      ],
      "text/plain": [
       "    orig  dest       set\n",
       "42    41    42  {41, 42}\n",
       "83    42    41  {41, 42}"
      ]
     },
     "execution_count": 349,
     "metadata": {},
     "output_type": "execute_result"
    }
   ],
   "source": [
    "od_ids[od_ids['set']==set((41, 42))]"
   ]
  },
  {
   "cell_type": "markdown",
   "metadata": {},
   "source": [
    "* Pull lines + distance from Google"
   ]
  },
  {
   "cell_type": "code",
   "execution_count": 350,
   "metadata": {
    "collapsed": false
   },
   "outputs": [],
   "source": [
    "key = open('key').readline().strip('\\n')\n",
    "gmaps = googlemaps.Client(key=key)"
   ]
  },
  {
   "cell_type": "code",
   "execution_count": 80,
   "metadata": {
    "collapsed": false
   },
   "outputs": [
    {
     "name": "stdout",
     "output_type": "stream",
     "text": [
      "CPU times: user 8.35 s, sys: 485 ms, total: 8.84 s\n",
      "Wall time: 1min 21s\n"
     ]
    }
   ],
   "source": [
    "%%time\n",
    "for id, pair in od_ids_u.iterrows():\n",
    "    xy1 = stns.loc[\\\n",
    "            stns['station_id']==pair['orig'], ['lat', 'long']\\\n",
    "                  ].iloc[0].tolist()\n",
    "    xy2 = stns.loc[\\\n",
    "            stns['station_id']==pair['dest'], ['lat', 'long']\\\n",
    "                  ].iloc[0].tolist()\n",
    "    drs = gmaps.directions(xy1, xy2, mode='bicycling')\n",
    "    line = drs[0]['overview_polyline']['points']\n",
    "    od_ids_u.loc[id, 'line'] = line"
   ]
  },
  {
   "cell_type": "code",
   "execution_count": 82,
   "metadata": {
    "collapsed": true
   },
   "outputs": [],
   "source": [
    "# Save just in case\n",
    "od_ids_u.to_csv('lines.csv')"
   ]
  },
  {
   "cell_type": "markdown",
   "metadata": {},
   "source": [
    "* Encode trips as `shapely` line objects decoding them with [`polyline`](https://pypi.python.org/pypi/polyline/1.3.2)."
   ]
  },
  {
   "cell_type": "code",
   "execution_count": 242,
   "metadata": {
    "collapsed": true
   },
   "outputs": [],
   "source": [
    "def rearrange(l):\n",
    "    '''\n",
    "    Swap latitude for longitude so it conforms\n",
    "    to XY as `LineString` expects\n",
    "    '''\n",
    "    return list(map(lambda t: t[::-1], l))"
   ]
  },
  {
   "cell_type": "code",
   "execution_count": 243,
   "metadata": {
    "collapsed": false
   },
   "outputs": [],
   "source": [
    "od_ids_u['geometry'] = od_ids_u['line'].apply(\\\n",
    "                    lambda l: LineString(\\\n",
    "                               rearrange(pl.decode(l))\\\n",
    "                                        )\\\n",
    "                                             )"
   ]
  },
  {
   "cell_type": "markdown",
   "metadata": {},
   "source": [
    "* Join lines to table with all trips"
   ]
  },
  {
   "cell_type": "code",
   "execution_count": 244,
   "metadata": {
    "collapsed": false
   },
   "outputs": [],
   "source": [
    "idify = lambda od: str(min(od))+'-'+str(max(od))"
   ]
  },
  {
   "cell_type": "code",
   "execution_count": 259,
   "metadata": {
    "collapsed": false,
    "scrolled": true
   },
   "outputs": [],
   "source": [
    "od_ids['id'] = od_ids[['orig', 'dest']].apply(idify, axis=1)\n",
    "od_ids_u['id'] = od_ids_u[['orig', 'dest']].apply(idify, axis=1)\n",
    "od = od_ids.join(od_ids_u.set_index('id')[['geometry']],\\\n",
    "                 on='id')\\\n",
    "           .drop(['set', 'id'], axis=1)"
   ]
  },
  {
   "cell_type": "markdown",
   "metadata": {},
   "source": [
    "* Turn the table into a `GeoDataFrame`"
   ]
  },
  {
   "cell_type": "code",
   "execution_count": 260,
   "metadata": {
    "collapsed": true
   },
   "outputs": [],
   "source": [
    "od = gpd.GeoDataFrame(od.drop('geometry', axis=1), \\\n",
    "                      geometry=od['geometry'], \\\n",
    "                      crs={'init' :'epsg:4326'})"
   ]
  },
  {
   "cell_type": "markdown",
   "metadata": {},
   "source": [
    "* Project to the NAD83 / California Albers projection ([`EPSG:3310`](http://epsg.io/3310)), expressed in metres."
   ]
  },
  {
   "cell_type": "code",
   "execution_count": 261,
   "metadata": {
    "collapsed": false,
    "scrolled": true
   },
   "outputs": [],
   "source": [
    "od = od.to_crs(epsg=3310)"
   ]
  },
  {
   "cell_type": "markdown",
   "metadata": {},
   "source": [
    "* Obtain street distances"
   ]
  },
  {
   "cell_type": "code",
   "execution_count": 268,
   "metadata": {
    "collapsed": true
   },
   "outputs": [],
   "source": [
    "od['street_dist'] = od.length"
   ]
  },
  {
   "cell_type": "markdown",
   "metadata": {},
   "source": [
    "* Obtain straight distances"
   ]
  },
  {
   "cell_type": "code",
   "execution_count": 281,
   "metadata": {
    "collapsed": true
   },
   "outputs": [],
   "source": [
    "def straight_dist(line):\n",
    "    xys = line.coords\n",
    "    stl = LineString([xys[0], xys[-1]])\n",
    "    return stl.length"
   ]
  },
  {
   "cell_type": "code",
   "execution_count": 282,
   "metadata": {
    "collapsed": true
   },
   "outputs": [],
   "source": [
    "od['straight_dist'] = od['geometry'].apply(straight_dist)"
   ]
  },
  {
   "cell_type": "markdown",
   "metadata": {},
   "source": [
    "* Index on string ID"
   ]
  },
  {
   "cell_type": "code",
   "execution_count": 286,
   "metadata": {
    "collapsed": true
   },
   "outputs": [],
   "source": [
    "od['id'] = od[['orig', 'dest']].apply(\\\n",
    "                                lambda r: str(r.orig)+'-'+str(r.dest), \\\n",
    "                                    axis=1)\n",
    "od = od.set_index('id')"
   ]
  },
  {
   "cell_type": "markdown",
   "metadata": {},
   "source": [
    "## Trips"
   ]
  },
  {
   "cell_type": "markdown",
   "metadata": {},
   "source": [
    "* Attach number of trips"
   ]
  },
  {
   "cell_type": "code",
   "execution_count": 287,
   "metadata": {
    "collapsed": false
   },
   "outputs": [
    {
     "data": {
      "text/html": [
       "<div>\n",
       "<table border=\"1\" class=\"dataframe\">\n",
       "  <thead>\n",
       "    <tr style=\"text-align: right;\">\n",
       "      <th></th>\n",
       "      <th>orig</th>\n",
       "      <th>dest</th>\n",
       "      <th>geometry</th>\n",
       "      <th>street_dist</th>\n",
       "      <th>straight_dist</th>\n",
       "    </tr>\n",
       "    <tr>\n",
       "      <th>id</th>\n",
       "      <th></th>\n",
       "      <th></th>\n",
       "      <th></th>\n",
       "      <th></th>\n",
       "      <th></th>\n",
       "    </tr>\n",
       "  </thead>\n",
       "  <tbody>\n",
       "    <tr>\n",
       "      <th>41-42</th>\n",
       "      <td>41</td>\n",
       "      <td>42</td>\n",
       "      <td>LINESTRING (-211028.4643687008 -21929.58136633...</td>\n",
       "      <td>464.017539</td>\n",
       "      <td>282.679311</td>\n",
       "    </tr>\n",
       "    <tr>\n",
       "      <th>41-45</th>\n",
       "      <td>41</td>\n",
       "      <td>45</td>\n",
       "      <td>LINESTRING (-211028.4643687008 -21929.58136633...</td>\n",
       "      <td>775.880245</td>\n",
       "      <td>274.139521</td>\n",
       "    </tr>\n",
       "    <tr>\n",
       "      <th>41-46</th>\n",
       "      <td>41</td>\n",
       "      <td>46</td>\n",
       "      <td>LINESTRING (-211028.4643687008 -21929.58136633...</td>\n",
       "      <td>1061.183692</td>\n",
       "      <td>419.825049</td>\n",
       "    </tr>\n",
       "    <tr>\n",
       "      <th>41-47</th>\n",
       "      <td>41</td>\n",
       "      <td>47</td>\n",
       "      <td>LINESTRING (-211028.4643687008 -21929.58136633...</td>\n",
       "      <td>975.231435</td>\n",
       "      <td>745.941569</td>\n",
       "    </tr>\n",
       "    <tr>\n",
       "      <th>41-48</th>\n",
       "      <td>41</td>\n",
       "      <td>48</td>\n",
       "      <td>LINESTRING (-211028.4643687008 -21929.58136633...</td>\n",
       "      <td>1240.265533</td>\n",
       "      <td>561.747815</td>\n",
       "    </tr>\n",
       "  </tbody>\n",
       "</table>\n",
       "</div>"
      ],
      "text/plain": [
       "       orig  dest                                           geometry  \\\n",
       "id                                                                     \n",
       "41-42    41    42  LINESTRING (-211028.4643687008 -21929.58136633...   \n",
       "41-45    41    45  LINESTRING (-211028.4643687008 -21929.58136633...   \n",
       "41-46    41    46  LINESTRING (-211028.4643687008 -21929.58136633...   \n",
       "41-47    41    47  LINESTRING (-211028.4643687008 -21929.58136633...   \n",
       "41-48    41    48  LINESTRING (-211028.4643687008 -21929.58136633...   \n",
       "\n",
       "       street_dist  straight_dist  \n",
       "id                                 \n",
       "41-42   464.017539     282.679311  \n",
       "41-45   775.880245     274.139521  \n",
       "41-46  1061.183692     419.825049  \n",
       "41-47   975.231435     745.941569  \n",
       "41-48  1240.265533     561.747815  "
      ]
     },
     "execution_count": 287,
     "metadata": {},
     "output_type": "execute_result"
    }
   ],
   "source": [
    "od.head()"
   ]
  },
  {
   "cell_type": "markdown",
   "metadata": {},
   "source": [
    "* Attach the following information to each line\n",
    "    * Origin ID\n",
    "    * Destination ID\n",
    "    * N. of trips\n",
    "    * Straight distance\n",
    "    * Street distance"
   ]
  },
  {
   "cell_type": "markdown",
   "metadata": {},
   "source": [
    "* Write out as a `GeoJSON`"
   ]
  },
  {
   "cell_type": "code",
   "execution_count": 256,
   "metadata": {
    "collapsed": false,
    "scrolled": true
   },
   "outputs": [],
   "source": [
    "od.to_file('flows.geojson', driver='GeoJSON')"
   ]
  }
 ],
 "metadata": {
  "kernelspec": {
   "display_name": "Python 3",
   "language": "python",
   "name": "python3"
  },
  "language_info": {
   "codemirror_mode": {
    "name": "ipython",
    "version": 3
   },
   "file_extension": ".py",
   "mimetype": "text/x-python",
   "name": "python",
   "nbconvert_exporter": "python",
   "pygments_lexer": "ipython3",
   "version": "3.5.2"
  }
 },
 "nbformat": 4,
 "nbformat_minor": 2
}
